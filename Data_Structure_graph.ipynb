{
  "nbformat": 4,
  "nbformat_minor": 0,
  "metadata": {
    "colab": {
      "name": "Data_Structure_graph.ipynb",
      "provenance": [],
      "collapsed_sections": [],
      "authorship_tag": "ABX9TyPslK4VMODhteEg8AnWA4ix",
      "include_colab_link": true
    },
    "kernelspec": {
      "name": "python3",
      "display_name": "Python 3"
    },
    "language_info": {
      "name": "python"
    }
  },
  "cells": [
    {
      "cell_type": "markdown",
      "metadata": {
        "id": "view-in-github",
        "colab_type": "text"
      },
      "source": [
        "<a href=\"https://colab.research.google.com/github/Jwavely/Data-Structure/blob/main/Data_Structure_graph.ipynb\" target=\"_parent\"><img src=\"https://colab.research.google.com/assets/colab-badge.svg\" alt=\"Open In Colab\"/></a>"
      ]
    },
    {
      "cell_type": "code",
      "execution_count": null,
      "metadata": {
        "id": "6PVpytFvLBtH"
      },
      "outputs": [],
      "source": [
        "class StationNode:\n",
        "    \"\"\"간단한 지하철 역 노드 클래스\"\"\"\n",
        "    def __init__(self, station_name):\n",
        "        self.station_name = station_name\n",
        "        \n",
        "\n",
        "\n",
        "def create_station_nodes(input_file):\n",
        "    \"\"\"input_file에서 데이터를 읽어 와서 지하철 그래프 노드들을 리턴하는 함수\"\"\"\n",
        "    stations = {}  # 지하철 역 노드들을 담을 딕셔너리\n",
        "\n",
        "    # 파라미터로 받은 input_file 파일을 연다\n",
        "    with open(input_file) as stations_raw_file:\n",
        "        for line in stations_raw_file:  # 파일을 한 줄씩 받아온다\n",
        "            subway_line = line.strip().split(\"-\")  # 앞 뒤 띄어쓰기를 없애고 \"-\"를 기준점으로 데이터를 나눈다\n",
        "\n",
        "            for name in subway_line:\n",
        "                station_name = name.strip()  # 앞 뒤 띄어쓰기 없애기\n",
        "                current = StationNode(station_name)\n",
        "                if station_name not in stations:\n",
        "                    stations[station_name] = current\n",
        "                # 코드를 쓰세요\n",
        "\n",
        "    return stations\n",
        "\n",
        "stations = create_station_nodes(\"./stations.txt\")  # stations.txt 파일로 그래프 노드들을 만든다\n",
        "\n",
        "# stations에 저장한 역들 이름 출력 (채점을 위해 역 이름 순서대로 출력)\n",
        "for station in sorted(stations.keys()):\n",
        "    print(stations[station].station_name)"
      ]
    },
    {
      "cell_type": "code",
      "source": [
        "class StationNode:\n",
        "    \"\"\"간단한 지하철 역 노드 클래스\"\"\"\n",
        "    def __init__(self, station_name):\n",
        "        self.station_name = station_name\n",
        "        self.adjacent_stations = []  # 인접 리스트\n",
        "\n",
        "\n",
        "    def add_connection(self, other_station):\n",
        "        \"\"\"지하철 역 노드 사이 엣지 저장하기\"\"\"\n",
        "        self.adjacent_stations.append(other_station)\n",
        "        other_station.adjacent_stations.append(self)\n",
        "\n",
        "\n",
        "    def __str__(self):\n",
        "        \"\"\"지하철 노드 문자열 메소드. 지하철 역 이름과 연결된 역들을 모두 출력해준다\"\"\"\n",
        "        res_str = f\"{self.station_name}: \"  # 리턴할 문자열\n",
        "\n",
        "        # 리턴할 문자열에 인접한 역 이름들 저장\n",
        "        for station in self.adjacent_stations:\n",
        "            res_str += f\"{station.station_name} \"\n",
        "\n",
        "        return res_str"
      ],
      "metadata": {
        "id": "NeiX5wouWAru"
      },
      "execution_count": null,
      "outputs": []
    },
    {
      "cell_type": "code",
      "source": [
        "from StationNode import *\n",
        "\n",
        "# 코드를 추가하세요\n",
        "def create_subway_graph(input_file):\n",
        "    \"\"\"input_file에서 데이터를 읽어 와서 지하철 그래프를 리턴하는 함수\"\"\"\n",
        "    stations = {}  # 지하철 역 노드들을 담을 딕셔너리\n",
        "\n",
        "    # 파라미터로 받은 input_file 파일을 연다\n",
        "    with open(input_file) as stations_raw_file:\n",
        "        for line in stations_raw_file:  # 파일을 한 줄씩 받아온다\n",
        "            previous_station = None\n",
        "            subway_line = line.strip().split(\"-\")  # 앞 뒤 띄어쓰기를 없애고 \"-\"를 기준점으로 데이터를 나눈다\n",
        "\n",
        "            for name in subway_line:\n",
        "                station_name = name.strip()  # 앞 뒤 띄어쓰기 없애기\n",
        "\n",
        "                # 지하철 역 이름이 이미 저장한 key 인지 확인\n",
        "                if station_name not in stations:\n",
        "                    current_station = StationNode(station_name)  # 새로운 인스턴스를 생성하고\n",
        "                    stations[station_name] = current_station  # dictionary에 역 이름은 key로, 역 노드 인스턴스를 value로 저장한다\n",
        "                \n",
        "                else:\n",
        "                    current_station = stations[station_name]\n",
        "                \n",
        "                if previous_station is not None:\n",
        "                    current_station.add_connection(previous_station)\n",
        "                    \n",
        "                previous_station = current_station\n",
        "                    \n",
        "    return stations\n",
        "\n",
        "\n",
        "stations = create_subway_graph(\"./stations.txt\")  # stations.txt 파일로 그래프를 만든다\n",
        "\n",
        "# stations에 저장한 역 인접 역들 출력 (채점을 위해 역 이름 순서대로 출력)\n",
        "for station in sorted(stations.keys()):\n",
        "        print(stations[station])"
      ],
      "metadata": {
        "id": "W7lEqCb3WA2T"
      },
      "execution_count": null,
      "outputs": []
    },
    {
      "cell_type": "code",
      "source": [
        ""
      ],
      "metadata": {
        "id": "Ri7fWGrWWA45"
      },
      "execution_count": null,
      "outputs": []
    }
  ]
}