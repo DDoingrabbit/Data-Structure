{
  "nbformat": 4,
  "nbformat_minor": 0,
  "metadata": {
    "colab": {
      "name": "Data_Structure_heap.ipynb",
      "provenance": [],
      "collapsed_sections": [],
      "authorship_tag": "ABX9TyMHbbBfpz+R3xmx+/qZF/sF",
      "include_colab_link": true
    },
    "kernelspec": {
      "name": "python3",
      "display_name": "Python 3"
    },
    "language_info": {
      "name": "python"
    }
  },
  "cells": [
    {
      "cell_type": "markdown",
      "metadata": {
        "id": "view-in-github",
        "colab_type": "text"
      },
      "source": [
        "<a href=\"https://colab.research.google.com/github/Jwavely/Data-Structure/blob/main/Data_Structure_heap.ipynb\" target=\"_parent\"><img src=\"https://colab.research.google.com/assets/colab-badge.svg\" alt=\"Open In Colab\"/></a>"
      ]
    },
    {
      "cell_type": "markdown",
      "source": [
        "# **힙 (heap)**\n",
        "\n",
        "## **힙 구현하기**\n",
        "\n",
        "\n",
        "<img src = \"https://drive.google.com/uc?id=1qtXP_5ZOOP5n_Sw0iFH7F9WecKd3PGl1\" height = 500 width = 700>\n",
        "\n",
        "## **heapify 구현**"
      ],
      "metadata": {
        "id": "mQc2hYKWG4lt"
      }
    },
    {
      "cell_type": "code",
      "source": [
        "def swap(tree, index_1, index_2):\n",
        "    \"\"\"완전 이진 트리의 노드 index_1과 노드 index_2의 위치를 바꿔준다\"\"\"\n",
        "    temp = tree[index_1]\n",
        "    tree[index_1] = tree[index_2]\n",
        "    tree[index_2] = temp\n",
        "\n",
        "\n",
        "def heapify(tree, index, tree_size):\n",
        "    \"\"\"heapify 함수\"\"\"\n",
        "\n",
        "    # 왼쪽 자식 노드의 인덱스와 오른쪽 자식 노드의 인덱스를 계산\n",
        "    left_child_index = 2 * index\n",
        "    right_child_index = 2 * index + 1\n",
        "    \n",
        "    max_index = index\n",
        "    if 0 < left_child_index < tree_size and tree[max_index] < tree[left_child_index]:\n",
        "        max_index = left_child_index\n",
        "\n",
        "    # 오른쪽 자식 노드의 값과 비교\n",
        "    if 0 < right_child_index < tree_size and tree[max_index] < tree[right_child_index]:\n",
        "        max_index = right_child_index\n",
        "\n",
        "    if max_index != index:\n",
        "        swap(tree, index, max_index)\n",
        "        heapify(tree, max_index, tree_size)"
      ],
      "metadata": {
        "id": "xO1NkYQhHCiM"
      },
      "execution_count": 1,
      "outputs": []
    },
    {
      "cell_type": "code",
      "source": [
        "# 실행 코드\n",
        "tree = [None, 15, 5, 12, 14, 9, 10, 6, 2, 11, 1]  # heapify하려고 하는 완전 이진 트리\n",
        "heapify(tree, 2, len(tree))  # 노드 2에 heapify 호출\n",
        "print(tree) "
      ],
      "metadata": {
        "colab": {
          "base_uri": "https://localhost:8080/"
        },
        "id": "N4jl49fEK5Y2",
        "outputId": "c21ead7e-312c-4fd9-ee76-81694c80338e"
      },
      "execution_count": 2,
      "outputs": [
        {
          "output_type": "stream",
          "name": "stdout",
          "text": [
            "[None, 15, 14, 12, 11, 9, 10, 6, 2, 5, 1]\n"
          ]
        }
      ]
    },
    {
      "cell_type": "markdown",
      "source": [
        "## **힙 정렬 구현하기**\n",
        "\n",
        "어떤 리스트 하나가 있다고 합시다. 이때 그 리스트를 힙 정렬하려면\n",
        "\n",
        "\n",
        "\n",
        "1.   먼저 리스트를 힙으로 만듭니다.\n",
        "2.   root 노드와 마지막 노드의 위치를 바꿉니다. 마지막 위치로 간 기존의 root 노드는 이제 힙에서 없다고 가정합니다.\n",
        "3.   새로운 root 노드가 힙 속성을 지킬 수 있게 heapify합니다.\n",
        "4.   힙에 남아있는 노드가 없도록 단계 2 ~ 3을 반복합니다.\n",
        "\n",
        "힙 정렬을 하기위해 heapsort라는 함수를 구현해볼게요. heapsort 함수는 정렬할 리스트를 tree라는 파라미터로 받아서 힙 정렬합니다. 이때 저번 과제에서 완성한 heapify 함수를 사용할게요.\n",
        "\n"
      ],
      "metadata": {
        "id": "02qexK0NNEXM"
      }
    },
    {
      "cell_type": "code",
      "source": [
        "def swap(tree, index_1, index_2):\n",
        "    \"\"\"완전 이진 트리의 노드 index_1과 노드 index_2의 위치를 바꿔준다\"\"\"\n",
        "    temp = tree[index_1]\n",
        "    tree[index_1] = tree[index_2]\n",
        "    tree[index_2] = temp\n",
        "\n",
        "\n",
        "def heapify(tree, index, tree_size):\n",
        "    \"\"\"heapify 함수\"\"\"\n",
        "\n",
        "    # 왼쪽 자식 노드의 인덱스와 오른쪽 자식 노드의 인덱스를 계산\n",
        "    left_child_index = 2 * index\n",
        "    right_child_index = 2 * index + 1\n",
        "\n",
        "    largest = index  # 일단 부모 노드의 값이 가장 크다고 설정\n",
        "\n",
        "    # 왼쪽 자식 노드의 값과 비교\n",
        "    if 0 < left_child_index < tree_size and tree[largest] < tree[left_child_index]:\n",
        "        largest = left_child_index\n",
        "\n",
        "    # 오른쪽 자식 노드의 값과 비교\n",
        "    if 0 < right_child_index < tree_size and tree[largest] < tree[right_child_index]:\n",
        "        largest = right_child_index\n",
        "    \n",
        "    if largest != index: # 부모 노드의 값이 자식 노드의 값보다 작으면\n",
        "        swap(tree, index, largest)  # 부모 노드와 최댓값을 가진 자식 노드의 위치를 바꿔준다\n",
        "        heapify(tree, largest, tree_size)  # 자리가 바뀌어 자식 노드가 된 기존의 부모 노드를대상으로 또 heapify 함수를 호출한다\n",
        "\n",
        "def heapsort(tree):\n",
        "    \"\"\"힙 정렬 함수\"\"\"\n",
        "    tree_size = len(tree)\n",
        "\n",
        "    for index in range(tree_size-1,0,-1):\n",
        "        heapify(tree, index, tree_size)\n",
        "    \n",
        "    for i in range(tree_size-1,1,-1):\n",
        "        swap(tree, 1,i)\n",
        "        heapify(tree,1, i)\n"
      ],
      "metadata": {
        "id": "aUEqdsBPK63L"
      },
      "execution_count": 14,
      "outputs": []
    },
    {
      "cell_type": "code",
      "source": [
        "# 실행 코드\n",
        "data_to_sort = [None, 6, 1, 4, 7, 10, 3, 8, 5, 1, 5, 7, 4, 2, 1]\n",
        "heapsort(data_to_sort)\n",
        "print(data_to_sort)"
      ],
      "metadata": {
        "colab": {
          "base_uri": "https://localhost:8080/"
        },
        "id": "UqXqvoW3RB8q",
        "outputId": "dd2279fd-5c2f-45b7-a1f4-06b7ed89ec44"
      },
      "execution_count": 15,
      "outputs": [
        {
          "output_type": "stream",
          "name": "stdout",
          "text": [
            "[None, 1, 1, 1, 2, 3, 4, 4, 5, 5, 6, 7, 7, 8, 10]\n"
          ]
        }
      ]
    },
    {
      "cell_type": "markdown",
      "source": [
        "## **힙 데이터 삽입 구현하기**\n",
        "\n",
        "이번 과제에서는 힙에 데이터를 삽입하는 것을 구현해볼게요.\n",
        "\n",
        "먼저 우선순위 큐를 PriorityQueue라는 클래스로 정의하고 그 안에 힙을 두겠습니다. \n",
        "PriorityQueue 클래스에는 heap이라는 인스턴스 변수가 있고, 그것은 파이썬의 리스트를 가리킵니다. 가장 처음 heap에는 None이라는 원소 하나만 있는데요. 이제 이 힙에 데이터를 하나씩 삽입하려고 합니다.\n",
        "\n",
        "\n",
        "힙에 데이터를 삽입하는 메소드의 이름은 insert입니다. insert 메소드는 데이터를 삽입할 때 리스트가 계속 힙의 속성을 유지하록 하는 기능도 포함해야 합니다.\n",
        "\n",
        "insert 메소드로 데이터를 삽입할 때 이루어져야 하는 일을 순서대로 정리하면 아래의 3단계로 나눌 수 \n",
        "있습니다.\n",
        "\n",
        "\n",
        "1.   힙의 마지막 인덱스에 노드를 삽입합니다.\n",
        "2.   (1)삽입한 노드와 그 부모 노드를 비교해서 부모 노드가 더 작으면 둘의 위치를 바꿉니다. (2) 삽입한 노드와 그 부모 노드를 비교해서 부모 노드가 더 크면 그대로 둡니다.\n",
        "3.   2-1의 경우에는 삽입한 노드가 올바른 위치를 찾을 때까지 단계 2를 반복합니다.\n",
        "\n",
        "이때 단계 2와 단계 3의 작업을 하는 별도의 함수 reverse_heapify를 정의할게요. \n",
        "reverse_heapify 함수는\n",
        "\n",
        "리스트로 구현한 완전 이진 트리, tree\n",
        "삽입된 노드의 인덱스, index\n",
        "를 파라미터로 받습니다. 그리고 삽입된 노드를 힙 속성을 유지할 수 있는 위치로 이동시킵니다.\n",
        "\n",
        "이전에 배운 heapify 함수가 위에 있는 노드를 아래로 이동시켜서 힙 속성을 유지했다면 reverse_heapify 함수는 아래에 있는 노드를 위로 이동시켜서 힙 속성을 유지하는 거죠.\n",
        "\n",
        "reverse_heapify 함수만 완성되면 insert 메소드를 완성하는 건 간단합니다. \n",
        "insert  함수는\n",
        "\n",
        "\n",
        "*   self\n",
        "*   삽입하는 데이터, data\n",
        "\n",
        "를 파라미터로 받는데요. insert 메소드는\n",
        "\n",
        "(1) 리스트, heap의 마지막에 새로운 데이터를 삽입하고\n",
        "\n",
        "(2) 그 마지막 인덱스를 reverse_heapify 함수에 파라미터로 넘겨서 호출하면 됩니다."
      ],
      "metadata": {
        "id": "v11FgPlyOrxW"
      }
    },
    {
      "cell_type": "code",
      "source": [
        "def swap(tree, index_1, index_2):\n",
        "    \"\"\"완전 이진 트리의 노드 index_1과 노드 index_2의 위치를 바꿔준다\"\"\"\n",
        "    temp = tree[index_1]\n",
        "    tree[index_1] = tree[index_2]\n",
        "    tree[index_2] = temp\n",
        "\n",
        "\n",
        "def reverse_heapify(tree, index):\n",
        "    \"\"\"삽입된 노드를 힙 속성을 지키는 위치로 이동시키는 함수\"\"\"\n",
        "    parent_index = index // 2  # 삽입된 노드의 부모 노드의 인덱스 계산\n",
        "    \n",
        "    if 0< parent_index and tree[parent_index]<tree[index]:\n",
        "        swap(tree, parent_index, index)\n",
        "        reverse_heapify(tree, parent_index)\n",
        "\n",
        "class PriorityQueue:\n",
        "    \"\"\"힙으로 구현한 우선순위 큐\"\"\"\n",
        "    def __init__(self):\n",
        "        self.heap = [None]  # 파이썬 리스트로 구현한 힙\n",
        "\n",
        "\n",
        "    def insert(self, data):\n",
        "        \"\"\"삽입 메소드\"\"\"\n",
        "        self.heap.append(data)\n",
        "        reverse_heapify(self.heap, len(self.heap)-1)\n",
        "\n",
        "\n",
        "    def __str__(self):\n",
        "        return str(self.heap)\n"
      ],
      "metadata": {
        "id": "0BgN_cAUTC_C"
      },
      "execution_count": 16,
      "outputs": []
    },
    {
      "cell_type": "code",
      "source": [
        "# 실행 코드\n",
        "priority_queue = PriorityQueue()\n",
        "\n",
        "priority_queue.insert(6)\n",
        "priority_queue.insert(9)\n",
        "priority_queue.insert(1)\n",
        "priority_queue.insert(3)\n",
        "priority_queue.insert(10)\n",
        "priority_queue.insert(11)\n",
        "priority_queue.insert(13)\n",
        "\n",
        "print(priority_queue)"
      ],
      "metadata": {
        "colab": {
          "base_uri": "https://localhost:8080/"
        },
        "id": "yH3ii17rUacG",
        "outputId": "78484204-e136-4f49-8362-a6ee229a4fd2"
      },
      "execution_count": 17,
      "outputs": [
        {
          "output_type": "stream",
          "name": "stdout",
          "text": [
            "[None, 13, 9, 11, 3, 6, 1, 10]\n"
          ]
        }
      ]
    },
    {
      "cell_type": "markdown",
      "source": [
        "## **힙 우선순위 데이터 추출 구현**\n",
        "\n",
        "이번 과제에서는 힙에서 가장 우선순위가 높은 데이터를 추출하는 함수를 구현해볼게요. \n",
        "이전 영상에서 배운 데이터 추출의 과정을 정리해보면 아래의 4단계로 정리할 수 있습니다.\n",
        "\n",
        "1. root 노드와 마지막 노드의 위치를 바꿉니다.\n",
        "2. 마지막 위치로 간 원래 root 노드의 데이터를 별도 변수에 저장하고, 노드는 힙에서 지웁니다.\n",
        "3. 새로운 root 노드를 대상으로 heapify해서 망가진 힙 속성을 복원합니다.\n",
        "4. 2단계에서 따로 저장해 둔 최우선순위 데이터를 리턴합니다.\n",
        "\n",
        "이렇게 나타낼 수 있었는데요.\n",
        "\n",
        "이 기능을 PriorityQueue 클래스의 extract_max라는 메소드로 구현해볼게요.\n",
        "\n",
        "extract_max 메소드는 파라미터로 self만 받고, heap에서 가장 우선 순위가 높은 데이터를 추출(지우면서 리턴)합니다.\n",
        "\n",
        "이번 과제에서는 PriorityQueue 클래스를 제외한 나머지 코드는 heapify_code.py 파일에 옮겨 놨습니다. 실제 코드 작성은 main.py에서 하시면 됩니다!"
      ],
      "metadata": {
        "id": "0FC_UehqVUeF"
      }
    },
    {
      "cell_type": "code",
      "source": [
        "def swap(tree, index_1, index_2):\n",
        "    \"\"\"완전 이진 트리의 노드 index_1과 노드 index_2의 위치를 바꿔준다\"\"\"\n",
        "    temp = tree[index_1]\n",
        "    tree[index_1] = tree[index_2]\n",
        "    tree[index_2] = temp\n",
        "\n",
        "\n",
        "def heapify(tree, index, tree_size):\n",
        "    \"\"\"heapify 함수\"\"\"\n",
        "\n",
        "    # 왼쪽 자식 노드의 인덱스와 오른쪽 자식 노드의 인덱스를 계산\n",
        "    left_child_index = 2 * index\n",
        "    right_child_index = 2 * index + 1\n",
        "\n",
        "    largest = index  # 일단 부모 노드의 값이 가장 크다고 설정\n",
        "\n",
        "    # 왼쪽 자식 노드의 값과 비교\n",
        "    if 0 < left_child_index < tree_size and tree[largest] < tree[left_child_index]:\n",
        "        largest = left_child_index\n",
        "\n",
        "    # 오른쪽 자식 노드의 값과 비교\n",
        "    if 0 < right_child_index < tree_size and tree[largest] < tree[right_child_index]:\n",
        "        largest = right_child_index\n",
        "    \n",
        "    if largest != index: # 부모 노드의 값이 자식 노드의 값보다 작으면\n",
        "        swap(tree, index, largest)  # 부모 노드와 최댓값을 가진 자식 노드의 위치를 바꿔준다\n",
        "        heapify(tree, largest, tree_size)  # 자리가 바뀌어 자식 노드가 된 기존의 부모 노드를대상으로 또 heapify 함수를 호출한다\n",
        "\n",
        "\n",
        "def reverse_heapify(tree, index):\n",
        "    \"\"\"삽입된 노드를 힙 속성을 지키는 위치로 이동시키는 함수\"\"\"\n",
        "    parent_index = index // 2  # 삽입된 노드의 부모 노드의 인덱스 계산\n",
        "\n",
        "    # 부모 노드가 존재하고, 부모 노드의 값이 삽입된 노드의 값보다 작을 때\n",
        "    if 0 < parent_index < len(tree) and tree[index] > tree[parent_index]:\n",
        "        swap(tree, index, parent_index)  # 부모 노드와 삽입된 노드의 위치 교환\n",
        "        reverse_heapify(tree, parent_index)  # 삽입된 노드를 대상으로 다시 reverse_heapify 호출\n",
        "\n"
      ],
      "metadata": {
        "id": "tKuUdb6dUbgx"
      },
      "execution_count": 20,
      "outputs": []
    },
    {
      "cell_type": "code",
      "source": [
        "#from heapify_code import *\n",
        "\n",
        "class PriorityQueue:\n",
        "    \"\"\"힙으로 구현한 우선순위 큐\"\"\"\n",
        "    def __init__(self):\n",
        "        self.heap = [None]  # 파이썬 리스트로 구현한 힙\n",
        "\n",
        "    def insert(self, data):\n",
        "        \"\"\"삽입 메소드\"\"\"\n",
        "        self.heap.append(data)  # 힙의 마지막에 데이터 추가\n",
        "        reverse_heapify(self.heap, len(self.heap)-1) # 삽입된 노드(추가된 데이터)의 위치를 재배치\n",
        "\n",
        "    def extract_max(self):\n",
        "        \"\"\"최우선순위 데이터 추출 메소드\"\"\"\n",
        "        swap(self.heap, 1, len(self.heap)-1)\n",
        "        last = self.heap.pop()\n",
        "        heapify(self.heap, 1, len(self.heap))\n",
        "        return last\n",
        "\n",
        "    def __str__(self):\n",
        "        return str(self.heap)\n"
      ],
      "metadata": {
        "id": "AN9sO5rvWe83"
      },
      "execution_count": 21,
      "outputs": []
    },
    {
      "cell_type": "code",
      "source": [
        "# 출력 코드\n",
        "priority_queue = PriorityQueue()\n",
        "\n",
        "priority_queue.insert(6)\n",
        "priority_queue.insert(9)\n",
        "priority_queue.insert(1)\n",
        "priority_queue.insert(3)\n",
        "priority_queue.insert(10)\n",
        "priority_queue.insert(11)\n",
        "priority_queue.insert(13)\n",
        "\n",
        "print(priority_queue.extract_max())\n",
        "print(priority_queue.extract_max())\n",
        "print(priority_queue.extract_max())\n",
        "print(priority_queue.extract_max())\n",
        "print(priority_queue.extract_max())\n",
        "print(priority_queue.extract_max())\n",
        "print(priority_queue.extract_max())"
      ],
      "metadata": {
        "colab": {
          "base_uri": "https://localhost:8080/"
        },
        "id": "rBD3KxeZWf5V",
        "outputId": "d1ed1a8c-0b69-454f-e89a-29013a7de4be"
      },
      "execution_count": 22,
      "outputs": [
        {
          "output_type": "stream",
          "name": "stdout",
          "text": [
            "13\n",
            "11\n",
            "10\n",
            "9\n",
            "6\n",
            "3\n",
            "1\n"
          ]
        }
      ]
    },
    {
      "cell_type": "code",
      "source": [
        ""
      ],
      "metadata": {
        "id": "RydnxMxAYCnK"
      },
      "execution_count": null,
      "outputs": []
    }
  ]
}