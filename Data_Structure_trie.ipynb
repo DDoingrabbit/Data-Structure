{
  "nbformat": 4,
  "nbformat_minor": 0,
  "metadata": {
    "colab": {
      "name": "Data_Structure_trie.ipynb",
      "provenance": [],
      "collapsed_sections": [],
      "authorship_tag": "ABX9TyOsDYweAY70Ks6PULse0BXd",
      "include_colab_link": true
    },
    "kernelspec": {
      "name": "python3",
      "display_name": "Python 3"
    },
    "language_info": {
      "name": "python"
    }
  },
  "cells": [
    {
      "cell_type": "markdown",
      "metadata": {
        "id": "view-in-github",
        "colab_type": "text"
      },
      "source": [
        "<a href=\"https://colab.research.google.com/github/Jwavely/Data-Structure/blob/main/Data_Structure_trie.ipynb\" target=\"_parent\"><img src=\"https://colab.research.google.com/assets/colab-badge.svg\" alt=\"Open In Colab\"/></a>"
      ]
    },
    {
      "cell_type": "markdown",
      "source": [
        "# **자료구죠**\n",
        "\n",
        "## **트라이(Trie) 자료구조**\n",
        "\n",
        "<img src = \"https://drive.google.com/uc?id=1zh9VeNnkdmV0s2hVrDWkhYQw0Uo0Aw_-\" height = 500 width = 500>\n",
        "\n",
        "\n",
        "\n",
        "*   트라이(Trie)는 문자열을 저장하고 효율적으로 탐색하기 위한 트리 형태의 자료구조\n",
        "*   우리가 검색할 때 볼 수 있는 자동완성 기능, 사전 검색 등 문자열을 탐색하는데 특화되어 있는 자료구조\n",
        "*   래딕스 트리(radix tree), 접두사 트리(prefix tree), 탐색 트리(retrieval tree)라고도 함 \n",
        "*   예를 들어 DataStructure이라는 단어를 검색하기 위해서는 제일먼저 D를 찾고, a,t,... 등의 순서로 찾으면 된다.\n",
        "\n",
        "## **트라이 장단점**\n",
        "\n",
        "트라이는 문자열 검색을 빠르게 한다. 문자열을 탐색할 때, 하나하나씩 전부 비교하면서 탐색을 하는 것보다 시간 복잡도 측면에서 훨씬 더 효율적이다. 하지만 각 노드에서 자식들에 대한 포인터들을 배열로 모두 저장하고 있다는 점에서 저장 공간의 크기가 크기 때문에 메모리 측면에서 비효율적이다.\n"
      ],
      "metadata": {
        "id": "EW00yN2Fcfre"
      }
    },
    {
      "cell_type": "markdown",
      "source": [
        "## **예제를 통한 트라이(Trie)의 이해**\n",
        "\n",
        "'abc', 'ab', 'car' 단어들을 'abc'부터 트라이에 저장한다고 가정해보자\n",
        "\n",
        "<img src = \"https://drive.google.com/uc?id=1O-t7ZEKYm7ZUM9qKnChS4Zb20SsTQMHO\" height = 500 width = 500>\n",
        "\n",
        "\n",
        "1.   'abc' 트라이에 삽입\n",
        "\n",
        "\n",
        "> * 첫번째 문자는 'a'이다. 초기에 트라이 자료구조 내에슨 아무것도 없으므로 head의 자식노드에 'a'를 추가해준다\n",
        "> * 'a'의 노드에 자식노드 'b'를 추가해준다\n",
        "> * 'b'의 노드에 자식노드 'c'를 추가해준다\n",
        "> * 'abc'단어가 여기서 끝남을 알리기 위해 현재 노드에 'abc' 라고 표시한다.\n",
        "\n",
        "<DIV style = 'text-align : center;'>\n",
        "  <img src = \"https://drive.google.com/uc?id=1sazSXaf-xjf2JKbzLjRhUHU46_f8caTs\" height = 350 width = 300>\n",
        "</DIV>\n",
        "\n",
        "2.    'ab' 트라이(Trie)에 삽입\n",
        "\n",
        "\n",
        "\n",
        "> * 현재 Head의 자식노드로 'a'가 이미 존재한다. 따라서 'a'노드를 추가하지 않고, 기존에 있는 'a'노드로 이동한다.\n",
        "> * 'b'도 'a'의 자식노드로 이미 존재하므로 'b'노드로 이동한다.\n",
        "> * 'ab' 단어가 여기서 끝이므로 현재 노드에 ab를 표시한다.\n",
        "\n",
        "\n",
        "<DIV style = 'text-align : center;'>\n",
        "  <img src = \"https://drive.google.com/uc?id=1BDi1aIu_iXNA-xIYS8aE18R1dPfuOTkI\" height = 350 width = 300>\n",
        "</DIV>\n",
        "\n",
        "\n",
        "3.    'car' 트라이(Trie)에 삽입\n",
        "\n",
        "\n",
        "\n",
        "\n",
        "> * Head의 자식노드로 'a'만 존재하고, 'c'는 존재하지 않는다. 따라서 'c'를 자식노드로 추가한다.\n",
        "> * 'c'의 자식노드가 없으므로 마찬가지로 'a'를 추가한다.\n",
        "> * 'a'의 자식노드가 없으므로 마찬가지로 'r'을 추가한다.\n",
        "> * 'car' 단어가 여기서 끝이므로 현재 노드에 car를 표시한다.\n",
        "\n",
        "\n",
        "\n",
        "<DIV style = 'text-align : center;'>\n",
        "  <img src = \"https://drive.google.com/uc?id=1aMTNZ5bgusfhSVB2hz0RxW-qrfC4zQaf\" height = 350 width = 300>\n",
        "</DIV>\n",
        "\n",
        "\n",
        "\n",
        "\n",
        "\n",
        "\n",
        "\n"
      ],
      "metadata": {
        "id": "Q3Sid96bZ5mD"
      }
    },
    {
      "cell_type": "markdown",
      "source": [
        "출처 : [링크](https://youseop.github.io/2020-11-09-BAEKJOON-14425_%EB%AC%B8%EC%9E%90%EC%97%B4%EC%A7%91%ED%95%A9/)"
      ],
      "metadata": {
        "id": "Yo6JcceGeCdw"
      }
    },
    {
      "cell_type": "markdown",
      "source": [
        "## **트라이 파이썬으로 구현하기**"
      ],
      "metadata": {
        "id": "CK7KI_ZDeB8i"
      }
    },
    {
      "cell_type": "code",
      "source": [
        "class Node(object):\n",
        "  def __init__(self, key, data = None):\n",
        "    self.key = key\n",
        "    self.data = data\n",
        "    self. children = {}"
      ],
      "metadata": {
        "id": "H1um18UEeEI6"
      },
      "execution_count": 1,
      "outputs": []
    },
    {
      "cell_type": "code",
      "source": [
        "class Trie(object):\n",
        "  def __init__(self):\n",
        "    self. head = Node(None)\n",
        "                      \n",
        "  def insert(self, string):\n",
        "    curr_node = self.head\n",
        "    for char in string:\n",
        "      if char not in curr_node.children:\n",
        "        curr_node.children[char] = Node(char)\n",
        "      curr_node = curr_node.children[char]\n",
        "    curr_node.data = string\n",
        "\n",
        "  def search(self, string):\n",
        "    curr_node = self.head\n",
        "    for char in string:\n",
        "      if char in curr_node.children:\n",
        "         curr_node = curr_node.children[char]\n",
        "      else:\n",
        "          return False\n",
        "    if curr_node.data is not None:\n",
        "      return True\n",
        "    else:\n",
        "      return False"
      ],
      "metadata": {
        "id": "VAtjDqvReg0H"
      },
      "execution_count": 43,
      "outputs": []
    },
    {
      "cell_type": "markdown",
      "source": [
        "트라이의 생성 시간 복잡도는 O(M*L), 탐색 시간 복잡도는 O(L)이다.\n",
        "제일 긴 문자열의 길이를 L이라 하고, 총 문자열들의 수를 M이라 할 때 시간 복잡도는 위와 같다.\n",
        "생성 시간 복잡도는 모든 문자열 M개를 넣어야하고, M개에 대해서 트라이에 넣는건 가장 긴 문자열 길이인 L만큼 걸리므로 O(M*L)의 시간 복잡도를 가진다. (삽입은 O(L)이다.)\n",
        "탐색 시간 복잡도는 트리를 제일 깊게 탐색하는 경우는 가장 긴 문자열 길이인 L까지 깊게 들어가는 것이므로 O(L)의 시간 복잡도를 가진다."
      ],
      "metadata": {
        "id": "qdqgayd5fcmg"
      }
    },
    {
      "cell_type": "code",
      "source": [
        "new_trie = Trie()"
      ],
      "metadata": {
        "id": "Q1UIqX03fEHJ"
      },
      "execution_count": 44,
      "outputs": []
    },
    {
      "cell_type": "code",
      "source": [
        "new_trie.insert('abc')\n",
        "new_trie.insert('ab')\n",
        "new_trie.insert('car')"
      ],
      "metadata": {
        "id": "4YF0VPijfpvi"
      },
      "execution_count": 45,
      "outputs": []
    },
    {
      "cell_type": "code",
      "source": [
        "new_trie.search('abcd')"
      ],
      "metadata": {
        "colab": {
          "base_uri": "https://localhost:8080/"
        },
        "id": "ZFLP6VlUfxdu",
        "outputId": "48044892-6ca7-485a-f68d-18e734bd4447"
      },
      "execution_count": 46,
      "outputs": [
        {
          "output_type": "execute_result",
          "data": {
            "text/plain": [
              "False"
            ]
          },
          "metadata": {},
          "execution_count": 46
        }
      ]
    },
    {
      "cell_type": "code",
      "source": [
        "new_trie.search('dar')"
      ],
      "metadata": {
        "colab": {
          "base_uri": "https://localhost:8080/"
        },
        "id": "NxObw3VXf086",
        "outputId": "fa22aaff-c2b3-4d03-e6dc-28cf485c0057"
      },
      "execution_count": 47,
      "outputs": [
        {
          "output_type": "execute_result",
          "data": {
            "text/plain": [
              "False"
            ]
          },
          "metadata": {},
          "execution_count": 47
        }
      ]
    },
    {
      "cell_type": "code",
      "source": [
        "new_trie.search('ca')"
      ],
      "metadata": {
        "colab": {
          "base_uri": "https://localhost:8080/"
        },
        "id": "PZVpGOy-f-nb",
        "outputId": "dc95b75a-9808-49eb-8099-00a95d24f00b"
      },
      "execution_count": 48,
      "outputs": [
        {
          "output_type": "execute_result",
          "data": {
            "text/plain": [
              "False"
            ]
          },
          "metadata": {},
          "execution_count": 48
        }
      ]
    },
    {
      "cell_type": "code",
      "source": [
        "new_trie.search('car')"
      ],
      "metadata": {
        "colab": {
          "base_uri": "https://localhost:8080/"
        },
        "id": "i867Do2lgnki",
        "outputId": "6984eb94-a562-4dcb-c68d-76c6761a598f"
      },
      "execution_count": 52,
      "outputs": [
        {
          "output_type": "execute_result",
          "data": {
            "text/plain": [
              "True"
            ]
          },
          "metadata": {},
          "execution_count": 52
        }
      ]
    },
    {
      "cell_type": "code",
      "source": [
        ""
      ],
      "metadata": {
        "id": "UjtVTLl6goTI"
      },
      "execution_count": null,
      "outputs": []
    }
  ]
}