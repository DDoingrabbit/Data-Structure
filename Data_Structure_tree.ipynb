{
  "nbformat": 4,
  "nbformat_minor": 0,
  "metadata": {
    "colab": {
      "name": "Data_Structure_tree.ipynb",
      "provenance": [],
      "collapsed_sections": [],
      "authorship_tag": "ABX9TyOXSpeO5sMyxwctsnzSXWK6",
      "include_colab_link": true
    },
    "kernelspec": {
      "name": "python3",
      "display_name": "Python 3"
    },
    "language_info": {
      "name": "python"
    }
  },
  "cells": [
    {
      "cell_type": "markdown",
      "metadata": {
        "id": "view-in-github",
        "colab_type": "text"
      },
      "source": [
        "<a href=\"https://colab.research.google.com/github/Jwavely/Data-Structure/blob/main/Data_Structure_tree.ipynb\" target=\"_parent\"><img src=\"https://colab.research.google.com/assets/colab-badge.svg\" alt=\"Open In Colab\"/></a>"
      ]
    },
    {
      "cell_type": "markdown",
      "source": [
        "## **과제 - 이진 트리 만들기**\n",
        "\n",
        "이전 영상에서는 간단히 이진 트리를 코드로 구현해봤습니다. 그 순서를 간단히 설명하면\n",
        "\n",
        "노드 클래스를 정의하고\n",
        "\n",
        "그 인스턴스들을 생성한 후\n",
        "\n",
        "만들어놓은 인스턴스들을 트리 모양에 맞게 연결시켜 줬는데요.\n",
        "\n",
        "이번 과제에서는 이 방법대로 이진 트리를 직접 만들어볼게요.\n",
        "저희가 만들어볼 이진 트리는 아래와 같은 모양의 트리입니다.\n",
        "\n",
        "노드 안에 있는 데이터는 문자열 데이터인데요. 각각 문자열 A, B, C, D, E, F, G, H를 저장하고 있습니다.\n",
        "직접 노드 인스턴스들을 만들고 연결시켜서 위와 같은 트리를 만들어보세요.\n",
        "\n"
      ],
      "metadata": {
        "id": "w2uUPyJQcz1c"
      }
    },
    {
      "cell_type": "code",
      "source": [
        "class Node:\n",
        "    \"\"\"이진 트리 노드 클래스\"\"\"\n",
        "    def __init__(self, data):\n",
        "            self.data = data\n",
        "            self.left_child = None\n",
        "            self.right_child = None\n",
        "\n",
        "\n",
        "# root 노드 생성\n",
        "root_node = Node(\"A\")\n",
        "node_b = Node('B')\n",
        "node_c = Node('C')\n",
        "node_d = Node('D')\n",
        "node_e = Node('E')\n",
        "node_f = Node('F')\n",
        "node_g = Node('G')\n",
        "node_h = Node('H')\n",
        "\n",
        "root_node.left_child = node_b\n",
        "root_node.right_child = node_c\n",
        "\n",
        "node_b.left_child = node_d\n",
        "node_b.right_child = node_e\n",
        "\n",
        "node_c.right_child = node_f\n",
        "\n",
        "node_e.left_child = node_g\n",
        "node_e.right_child = node_h"
      ],
      "metadata": {
        "id": "8l_XdjaqckHg"
      },
      "execution_count": null,
      "outputs": []
    },
    {
      "cell_type": "code",
      "source": [
        "# 실행 코드\n",
        "test_node = root_node.right_child.right_child\n",
        "print(test_node.data)\n",
        "\n",
        "test_node = root_node.left_child.right_child.left_child\n",
        "print(test_node.data)\n",
        "\n",
        "test_node = root_node.left_child.right_child.right_child\n",
        "print(test_node.data)"
      ],
      "metadata": {
        "colab": {
          "base_uri": "https://localhost:8080/"
        },
        "id": "f2epRndkcnRh",
        "outputId": "de2edd3f-98a5-43ea-96be-7cc24e8aff04"
      },
      "execution_count": null,
      "outputs": [
        {
          "output_type": "stream",
          "name": "stdout",
          "text": [
            "F\n",
            "G\n",
            "H\n"
          ]
        }
      ]
    },
    {
      "cell_type": "markdown",
      "source": [
        "## **실습 과제 - 완전 이진 트리 직접 구현하기**\n",
        "\n",
        "이전 레슨에서는 파이썬의 리스트로 완전 이진 트리를 구현하는 방법을 배웠습니다. 그리고 자식 노드와 부모 노드를 찾는 법을 배웠는데요.\n",
        "\n",
        "이번 레슨에서는 자식 노드와 부모 노드를 찾는 기능을 함수로 직접 구현해볼게요.\n",
        "\n",
        "*   get_left_child_index 함수는 리스트 complete_binary_tree와 정수 index를 파라미터로 받습니다. 그리고 왼쪽 자식 노드가 있는 인덱스를 찾아서 리턴해줍니다. 단, 왼쪽 자식 노드가 없을 경우, None을 리턴합니다.\n",
        "*   get_right_child_index 함수는 리스트 complete_binary_tree와 정수 index를 받습니다. 그리고 오른쪽 자식 노드가 있는 인덱스를 찾아서 리턴해줍니다. 단, 오른쪽 자식 노드가 없을 경우, None을 리턴합니다.\n",
        "*   get_parent_index 함수는 리스트 complete_binary_tree와 정수 index를 받습니다. 그리고 부모 노드가 있는 인덱스를 찾아서 리턴해줍니다. 단, 부모 노드가 없을 경우, None을 리턴합니다.\n",
        "\n",
        "실행 코드에서는 위 이미지에 있는 트리를 그대로 사용합니다.\n",
        "\n"
      ],
      "metadata": {
        "id": "ulVdRer0hIQx"
      }
    },
    {
      "cell_type": "code",
      "source": [
        "def get_parent_index(complete_binary_tree, index):\n",
        "    \"\"\"배열로 구현한 완전 이진 트리에서 index번째 노드의 부모 노드의 인덱스를 리턴하는 함수\"\"\"\n",
        "    if index//2 ==0:\n",
        "        return None\n",
        "    else:\n",
        "        return index//2\n",
        "\n",
        "\n",
        "def get_left_child_index(complete_binary_tree, index):\n",
        "    \"\"\"배열로 구현한 완전 이진 트리에서 index번째 노드의 왼쪽 자식 노드의 인덱스를 리턴하는 함수\"\"\"\n",
        "    if int(index*2)>len(complete_binary_tree):\n",
        "        return None\n",
        "    else:\n",
        "        return int(index*2)\n",
        "\n",
        "\n",
        "def get_right_child_index(complete_binary_tree, index):\n",
        "    \"\"\"배열로 구현한 완전 이진 트리에서 index번째 노드의 오른쪽 자식 노드의 인덱스를 리턴하는 함수\"\"\"\n",
        "    if int(index*2)+1 > len(complete_binary_tree):\n",
        "        return None\n",
        "    else:\n",
        "        return int(index*2)+1"
      ],
      "metadata": {
        "id": "lqXmJemQgCoN"
      },
      "execution_count": null,
      "outputs": []
    },
    {
      "cell_type": "code",
      "source": [
        "# 실행 코드\n",
        "root_node_index = 1 # root 노드\n",
        "\n",
        "tree = [None, 1, 5, 12, 11, 9, 10, 14, 2, 10]  # 과제 이미지에 있는 완전 이진 트리\n",
        "\n",
        "# root 노드의 왼쪽과 오른쪽 자식 노드의 인덱스를 받아온다\n",
        "left_child_index = get_left_child_index(tree, root_node_index)\n",
        "right_child_index = get_right_child_index(tree,root_node_index)\n",
        "\n",
        "print(tree[left_child_index])\n",
        "print(tree[right_child_index])\n",
        "\n",
        "# 9번째 노드의 부모 노드의 인덱스를 받아온다\n",
        "parent_index = get_parent_index(tree, 9)\n",
        "\n",
        "print(tree[parent_index])\n",
        "\n",
        "# 부모나 자식 노드들이 없는 경우들\n",
        "parent_index = get_parent_index(tree, 1)  # root 노드의 부모 노드의 인덱스를 받아온다\n",
        "print(parent_index)\n",
        "\n",
        "left_child_index = get_left_child_index(tree, 6)  # 6번째 노드의 왼쪽 자식 노드의 인덱스를 받아온다\n",
        "print(left_child_index)\n",
        "\n",
        "right_child_index = get_right_child_index(tree, 8)  # 8번째 노드의 오른쪽 자식 노드의 인덱스를 받아온다\n",
        "print(right_child_index)"
      ],
      "metadata": {
        "colab": {
          "base_uri": "https://localhost:8080/"
        },
        "id": "WzAfniUIgN5C",
        "outputId": "4ee4551d-a3b0-421a-fbf3-2248b692a56a"
      },
      "execution_count": null,
      "outputs": [
        {
          "output_type": "stream",
          "name": "stdout",
          "text": [
            "5\n",
            "12\n",
            "11\n",
            "0\n",
            "None\n",
            "None\n"
          ]
        }
      ]
    },
    {
      "cell_type": "markdown",
      "source": [
        "## **실습 과제 - in-order 순회 구현하기**\n",
        "\n",
        "이번 레슨에서는 in-order 순회를 구현해볼게요. in-order는 순회 기본 동작들을:\n",
        "\n",
        "\n",
        "\n",
        "*   왼쪽 부분 트리를 in-order 순회한다\n",
        "*   현재 노드의 데이터를 출력한다\n",
        "*   오른쪽 부분 트리를 in-order 순회한다\n",
        "\n",
        "이 순서대로 실행시킵니다.\n",
        "\n",
        "in-order 순회를 하기위해 만든 traverse_in_order  함수를 직접 구현해 보세요.\n",
        "\n",
        "traverse_in_order 함수는 트리의 root 노드를 파라미터로 받습니다. 그리고 그 트리를 in-order 순회하면서 각 노드의 데이터를 출력합니다.\n",
        "\n",
        "실행 코드에서 사용하는 트리는 이전 영상에서 봤던 트리랑 같은 트리입니다.\n",
        "\n"
      ],
      "metadata": {
        "id": "Ytk14DE-lpsX"
      }
    },
    {
      "cell_type": "code",
      "source": [
        "class Node:\n",
        "    \"\"\"이진 트리 노드를 나타내는 클래스\"\"\"\n",
        "\n",
        "    def __init__(self, data):\n",
        "        \"\"\"이진 트리 노드는 데이터와 두 자식 노드에 대한 레퍼런스를 갖는다\"\"\"\n",
        "        self.data = data\n",
        "        self.left_child = None\n",
        "        self.right_child = None\n",
        "\n",
        "def traverse_inorder(node):\n",
        "    \"\"\"in-order 순회 함수\"\"\"\n",
        "    if node is None:\n",
        "        pass\n",
        "    else:\n",
        "        traverse_inorder(node.left_child)\n",
        "        print(node.data)\n",
        "        traverse_inorder(node.right_child)\n"
      ],
      "metadata": {
        "id": "vrIiT_rIghyQ"
      },
      "execution_count": null,
      "outputs": []
    },
    {
      "cell_type": "code",
      "source": [
        "# 여러 노드 인스턴스 생성\n",
        "node_A = Node(\"A\")\n",
        "node_B = Node(\"B\")\n",
        "node_C = Node(\"C\")\n",
        "node_D = Node(\"D\")\n",
        "node_E = Node(\"E\")\n",
        "node_F = Node(\"F\")\n",
        "node_G = Node(\"G\")\n",
        "node_H = Node(\"H\")\n",
        "node_I = Node(\"I\")\n",
        "\n",
        "# 생성한 노드 인스턴스들 연결\n",
        "node_F.left_child = node_B\n",
        "node_F.right_child = node_G\n",
        "\n",
        "node_B.left_child = node_A\n",
        "node_B.right_child = node_D\n",
        "\n",
        "node_D.left_child = node_C\n",
        "node_D.right_child = node_E\n",
        "\n",
        "node_G.right_child = node_I\n",
        "\n",
        "node_I.left_child = node_H\n",
        "\n",
        "# 노드 F를 root 노드로 만든다\n",
        "root_node = node_F\n",
        "\n",
        "# 만들어 놓은 트리를 in-order로 순회한다\n",
        "traverse_inorder(root_node)"
      ],
      "metadata": {
        "colab": {
          "base_uri": "https://localhost:8080/"
        },
        "id": "IIo_9gZllrB_",
        "outputId": "a85b738e-c0ec-4bf5-8451-afab3da540bd"
      },
      "execution_count": null,
      "outputs": [
        {
          "output_type": "stream",
          "name": "stdout",
          "text": [
            "A\n",
            "B\n",
            "C\n",
            "D\n",
            "E\n",
            "F\n",
            "G\n",
            "H\n",
            "I\n"
          ]
        }
      ]
    },
    {
      "cell_type": "code",
      "source": [
        ""
      ],
      "metadata": {
        "id": "nqfpU-PHlreS"
      },
      "execution_count": null,
      "outputs": []
    }
  ]
}